{
 "cells": [
  {
   "cell_type": "markdown",
   "id": "3baeb862",
   "metadata": {},
   "source": [
    "# Chargement des données"
   ]
  },
  {
   "cell_type": "code",
   "execution_count": 23,
   "id": "2201352b",
   "metadata": {},
   "outputs": [],
   "source": [
    "# mise en place des chemins des fichiers contenant les datasets\n",
    "dossier_data = \"data/brutes/\"\n",
    "nom_fichier_application_train = \"application_train.csv\"\n",
    "nom_fichier_application_test = \"application_test.csv\"\n",
    "nom_fichier_bureau = \"bureau.csv\"\n",
    "nom_fichier_bureau_balance = \"bureau_balance.csv\"\n",
    "nom_fichier_POS_CASH_balance = \"POS_CASH_balance.csv\"\n",
    "nom_fichier_credit_card_balance = \"credit_card_balance.csv\"\n",
    "nom_fichier_previous_application = \"previous_application.csv\"\n",
    "nom_fichier_installments_payments = \"installments_payments.csv\""
   ]
  },
  {
   "cell_type": "code",
   "execution_count": 24,
   "id": "5db2a5d6",
   "metadata": {},
   "outputs": [],
   "source": [
    "import pandas as pd\n",
    "\n",
    "# chargement des datasets (BDD complète)\n",
    "application_train = pd.read_csv(dossier_data + nom_fichier_application_train)\n",
    "application_test = pd.read_csv(dossier_data + nom_fichier_application_test)\n",
    "bureau = pd.read_csv(dossier_data + nom_fichier_bureau)\n",
    "bureau_balance = pd.read_csv(dossier_data + nom_fichier_bureau_balance)\n",
    "POS_CASH_balance = pd.read_csv(dossier_data + nom_fichier_POS_CASH_balance)\n",
    "credit_card_balance = pd.read_csv(dossier_data + nom_fichier_credit_card_balance)\n",
    "previous_application = pd.read_csv(dossier_data + nom_fichier_previous_application)\n",
    "installments_payments = pd.read_csv(dossier_data + nom_fichier_installments_payments)"
   ]
  },
  {
   "cell_type": "code",
   "execution_count": null,
   "id": "8ad5e138",
   "metadata": {},
   "outputs": [],
   "source": []
  }
 ],
 "metadata": {
  "kernelspec": {
   "display_name": "Python 3 (ipykernel)",
   "language": "python",
   "name": "python3"
  },
  "language_info": {
   "codemirror_mode": {
    "name": "ipython",
    "version": 3
   },
   "file_extension": ".py",
   "mimetype": "text/x-python",
   "name": "python",
   "nbconvert_exporter": "python",
   "pygments_lexer": "ipython3",
   "version": "3.8.8"
  }
 },
 "nbformat": 4,
 "nbformat_minor": 5
}
